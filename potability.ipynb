{
 "cells": [
  {
   "cell_type": "code",
   "execution_count": 1,
   "id": "14feacdf",
   "metadata": {},
   "outputs": [],
   "source": [
    "#pH: pH of the water (measured in pH units).\n",
    "#Hardness: Hardness of the water (measured in mg/L).\n",
    "#Solids: Total dissolved solids in the water (measured in ppm).\n",
    "#Chloramines: Amount of chloramines in the water (measured in ppm).\n",
    "#Sulfate: Amount of sulfate in the water (measured in mg/L).\n",
    "#Conductivity: Conductivity of the water (measured in μS/cm).\n",
    "#Organic_carbon: Amount of organic carbon in the water (measured in ppm).\n",
    "#Trihalomethanes: Amount of trihalomethanes in the water (measured in μg/L).\n",
    "#Turbidity: Turbidity of the water (measured in NTU).\n",
    "#Potability: Potability of the water (1 indicates potable, 0 indicates non-potable)."
   ]
  },
  {
   "cell_type": "code",
   "execution_count": 1,
   "id": "81aa7443",
   "metadata": {},
   "outputs": [],
   "source": [
    "#IMPORTING NECESSARY LIBRARIES\n",
    "import pandas as pd\n",
    "import numpy as np\n",
    "import matplotlib.pyplot as plt\n",
    "import seaborn as sns"
   ]
  },
  {
   "cell_type": "code",
   "execution_count": 2,
   "id": "9172543d",
   "metadata": {},
   "outputs": [
    {
     "data": {
      "text/html": [
       "<div>\n",
       "<style scoped>\n",
       "    .dataframe tbody tr th:only-of-type {\n",
       "        vertical-align: middle;\n",
       "    }\n",
       "\n",
       "    .dataframe tbody tr th {\n",
       "        vertical-align: top;\n",
       "    }\n",
       "\n",
       "    .dataframe thead th {\n",
       "        text-align: right;\n",
       "    }\n",
       "</style>\n",
       "<table border=\"1\" class=\"dataframe\">\n",
       "  <thead>\n",
       "    <tr style=\"text-align: right;\">\n",
       "      <th></th>\n",
       "      <th>ph</th>\n",
       "      <th>Hardness</th>\n",
       "      <th>Solids</th>\n",
       "      <th>Chloramines</th>\n",
       "      <th>Sulfate</th>\n",
       "      <th>Conductivity</th>\n",
       "      <th>Organic_carbon</th>\n",
       "      <th>Trihalomethanes</th>\n",
       "      <th>Turbidity</th>\n",
       "      <th>Potability</th>\n",
       "    </tr>\n",
       "  </thead>\n",
       "  <tbody>\n",
       "    <tr>\n",
       "      <th>0</th>\n",
       "      <td>NaN</td>\n",
       "      <td>204.890455</td>\n",
       "      <td>20791.318981</td>\n",
       "      <td>7.300212</td>\n",
       "      <td>368.516441</td>\n",
       "      <td>564.308654</td>\n",
       "      <td>10.379783</td>\n",
       "      <td>86.990970</td>\n",
       "      <td>2.963135</td>\n",
       "      <td>0</td>\n",
       "    </tr>\n",
       "    <tr>\n",
       "      <th>1</th>\n",
       "      <td>3.716080</td>\n",
       "      <td>129.422921</td>\n",
       "      <td>18630.057858</td>\n",
       "      <td>6.635246</td>\n",
       "      <td>NaN</td>\n",
       "      <td>592.885359</td>\n",
       "      <td>15.180013</td>\n",
       "      <td>56.329076</td>\n",
       "      <td>4.500656</td>\n",
       "      <td>0</td>\n",
       "    </tr>\n",
       "    <tr>\n",
       "      <th>2</th>\n",
       "      <td>8.099124</td>\n",
       "      <td>224.236259</td>\n",
       "      <td>19909.541732</td>\n",
       "      <td>9.275884</td>\n",
       "      <td>NaN</td>\n",
       "      <td>418.606213</td>\n",
       "      <td>16.868637</td>\n",
       "      <td>66.420093</td>\n",
       "      <td>3.055934</td>\n",
       "      <td>0</td>\n",
       "    </tr>\n",
       "    <tr>\n",
       "      <th>3</th>\n",
       "      <td>8.316766</td>\n",
       "      <td>214.373394</td>\n",
       "      <td>22018.417441</td>\n",
       "      <td>8.059332</td>\n",
       "      <td>356.886136</td>\n",
       "      <td>363.266516</td>\n",
       "      <td>18.436524</td>\n",
       "      <td>100.341674</td>\n",
       "      <td>4.628771</td>\n",
       "      <td>0</td>\n",
       "    </tr>\n",
       "    <tr>\n",
       "      <th>4</th>\n",
       "      <td>9.092223</td>\n",
       "      <td>181.101509</td>\n",
       "      <td>17978.986339</td>\n",
       "      <td>6.546600</td>\n",
       "      <td>310.135738</td>\n",
       "      <td>398.410813</td>\n",
       "      <td>11.558279</td>\n",
       "      <td>31.997993</td>\n",
       "      <td>4.075075</td>\n",
       "      <td>0</td>\n",
       "    </tr>\n",
       "    <tr>\n",
       "      <th>...</th>\n",
       "      <td>...</td>\n",
       "      <td>...</td>\n",
       "      <td>...</td>\n",
       "      <td>...</td>\n",
       "      <td>...</td>\n",
       "      <td>...</td>\n",
       "      <td>...</td>\n",
       "      <td>...</td>\n",
       "      <td>...</td>\n",
       "      <td>...</td>\n",
       "    </tr>\n",
       "    <tr>\n",
       "      <th>3271</th>\n",
       "      <td>4.668102</td>\n",
       "      <td>193.681735</td>\n",
       "      <td>47580.991603</td>\n",
       "      <td>7.166639</td>\n",
       "      <td>359.948574</td>\n",
       "      <td>526.424171</td>\n",
       "      <td>13.894419</td>\n",
       "      <td>66.687695</td>\n",
       "      <td>4.435821</td>\n",
       "      <td>1</td>\n",
       "    </tr>\n",
       "    <tr>\n",
       "      <th>3272</th>\n",
       "      <td>7.808856</td>\n",
       "      <td>193.553212</td>\n",
       "      <td>17329.802160</td>\n",
       "      <td>8.061362</td>\n",
       "      <td>NaN</td>\n",
       "      <td>392.449580</td>\n",
       "      <td>19.903225</td>\n",
       "      <td>NaN</td>\n",
       "      <td>2.798243</td>\n",
       "      <td>1</td>\n",
       "    </tr>\n",
       "    <tr>\n",
       "      <th>3273</th>\n",
       "      <td>9.419510</td>\n",
       "      <td>175.762646</td>\n",
       "      <td>33155.578218</td>\n",
       "      <td>7.350233</td>\n",
       "      <td>NaN</td>\n",
       "      <td>432.044783</td>\n",
       "      <td>11.039070</td>\n",
       "      <td>69.845400</td>\n",
       "      <td>3.298875</td>\n",
       "      <td>1</td>\n",
       "    </tr>\n",
       "    <tr>\n",
       "      <th>3274</th>\n",
       "      <td>5.126763</td>\n",
       "      <td>230.603758</td>\n",
       "      <td>11983.869376</td>\n",
       "      <td>6.303357</td>\n",
       "      <td>NaN</td>\n",
       "      <td>402.883113</td>\n",
       "      <td>11.168946</td>\n",
       "      <td>77.488213</td>\n",
       "      <td>4.708658</td>\n",
       "      <td>1</td>\n",
       "    </tr>\n",
       "    <tr>\n",
       "      <th>3275</th>\n",
       "      <td>7.874671</td>\n",
       "      <td>195.102299</td>\n",
       "      <td>17404.177061</td>\n",
       "      <td>7.509306</td>\n",
       "      <td>NaN</td>\n",
       "      <td>327.459760</td>\n",
       "      <td>16.140368</td>\n",
       "      <td>78.698446</td>\n",
       "      <td>2.309149</td>\n",
       "      <td>1</td>\n",
       "    </tr>\n",
       "  </tbody>\n",
       "</table>\n",
       "<p>3276 rows × 10 columns</p>\n",
       "</div>"
      ],
      "text/plain": [
       "            ph    Hardness        Solids  Chloramines     Sulfate  \\\n",
       "0          NaN  204.890455  20791.318981     7.300212  368.516441   \n",
       "1     3.716080  129.422921  18630.057858     6.635246         NaN   \n",
       "2     8.099124  224.236259  19909.541732     9.275884         NaN   \n",
       "3     8.316766  214.373394  22018.417441     8.059332  356.886136   \n",
       "4     9.092223  181.101509  17978.986339     6.546600  310.135738   \n",
       "...        ...         ...           ...          ...         ...   \n",
       "3271  4.668102  193.681735  47580.991603     7.166639  359.948574   \n",
       "3272  7.808856  193.553212  17329.802160     8.061362         NaN   \n",
       "3273  9.419510  175.762646  33155.578218     7.350233         NaN   \n",
       "3274  5.126763  230.603758  11983.869376     6.303357         NaN   \n",
       "3275  7.874671  195.102299  17404.177061     7.509306         NaN   \n",
       "\n",
       "      Conductivity  Organic_carbon  Trihalomethanes  Turbidity  Potability  \n",
       "0       564.308654       10.379783        86.990970   2.963135           0  \n",
       "1       592.885359       15.180013        56.329076   4.500656           0  \n",
       "2       418.606213       16.868637        66.420093   3.055934           0  \n",
       "3       363.266516       18.436524       100.341674   4.628771           0  \n",
       "4       398.410813       11.558279        31.997993   4.075075           0  \n",
       "...            ...             ...              ...        ...         ...  \n",
       "3271    526.424171       13.894419        66.687695   4.435821           1  \n",
       "3272    392.449580       19.903225              NaN   2.798243           1  \n",
       "3273    432.044783       11.039070        69.845400   3.298875           1  \n",
       "3274    402.883113       11.168946        77.488213   4.708658           1  \n",
       "3275    327.459760       16.140368        78.698446   2.309149           1  \n",
       "\n",
       "[3276 rows x 10 columns]"
      ]
     },
     "execution_count": 2,
     "metadata": {},
     "output_type": "execute_result"
    }
   ],
   "source": [
    "#READING THE FILE\n",
    "df_water=pd.read_csv(\"C:\\\\Users\\\\yashika\\\\Downloads\\\\archive (15)\\\\water_potability.csv\")\n",
    "df_water"
   ]
  },
  {
   "cell_type": "code",
   "execution_count": 4,
   "id": "89fe6095",
   "metadata": {},
   "outputs": [
    {
     "data": {
      "text/html": [
       "<div>\n",
       "<style scoped>\n",
       "    .dataframe tbody tr th:only-of-type {\n",
       "        vertical-align: middle;\n",
       "    }\n",
       "\n",
       "    .dataframe tbody tr th {\n",
       "        vertical-align: top;\n",
       "    }\n",
       "\n",
       "    .dataframe thead th {\n",
       "        text-align: right;\n",
       "    }\n",
       "</style>\n",
       "<table border=\"1\" class=\"dataframe\">\n",
       "  <thead>\n",
       "    <tr style=\"text-align: right;\">\n",
       "      <th></th>\n",
       "      <th>ph</th>\n",
       "      <th>Hardness</th>\n",
       "      <th>Solids</th>\n",
       "      <th>Chloramines</th>\n",
       "      <th>Sulfate</th>\n",
       "      <th>Conductivity</th>\n",
       "      <th>Organic_carbon</th>\n",
       "      <th>Trihalomethanes</th>\n",
       "      <th>Turbidity</th>\n",
       "      <th>Potability</th>\n",
       "    </tr>\n",
       "  </thead>\n",
       "  <tbody>\n",
       "    <tr>\n",
       "      <th>0</th>\n",
       "      <td>NaN</td>\n",
       "      <td>204.890455</td>\n",
       "      <td>20791.318981</td>\n",
       "      <td>7.300212</td>\n",
       "      <td>368.516441</td>\n",
       "      <td>564.308654</td>\n",
       "      <td>10.379783</td>\n",
       "      <td>86.990970</td>\n",
       "      <td>2.963135</td>\n",
       "      <td>0</td>\n",
       "    </tr>\n",
       "    <tr>\n",
       "      <th>1</th>\n",
       "      <td>3.716080</td>\n",
       "      <td>129.422921</td>\n",
       "      <td>18630.057858</td>\n",
       "      <td>6.635246</td>\n",
       "      <td>NaN</td>\n",
       "      <td>592.885359</td>\n",
       "      <td>15.180013</td>\n",
       "      <td>56.329076</td>\n",
       "      <td>4.500656</td>\n",
       "      <td>0</td>\n",
       "    </tr>\n",
       "    <tr>\n",
       "      <th>2</th>\n",
       "      <td>8.099124</td>\n",
       "      <td>224.236259</td>\n",
       "      <td>19909.541732</td>\n",
       "      <td>9.275884</td>\n",
       "      <td>NaN</td>\n",
       "      <td>418.606213</td>\n",
       "      <td>16.868637</td>\n",
       "      <td>66.420093</td>\n",
       "      <td>3.055934</td>\n",
       "      <td>0</td>\n",
       "    </tr>\n",
       "    <tr>\n",
       "      <th>3</th>\n",
       "      <td>8.316766</td>\n",
       "      <td>214.373394</td>\n",
       "      <td>22018.417441</td>\n",
       "      <td>8.059332</td>\n",
       "      <td>356.886136</td>\n",
       "      <td>363.266516</td>\n",
       "      <td>18.436524</td>\n",
       "      <td>100.341674</td>\n",
       "      <td>4.628771</td>\n",
       "      <td>0</td>\n",
       "    </tr>\n",
       "    <tr>\n",
       "      <th>4</th>\n",
       "      <td>9.092223</td>\n",
       "      <td>181.101509</td>\n",
       "      <td>17978.986339</td>\n",
       "      <td>6.546600</td>\n",
       "      <td>310.135738</td>\n",
       "      <td>398.410813</td>\n",
       "      <td>11.558279</td>\n",
       "      <td>31.997993</td>\n",
       "      <td>4.075075</td>\n",
       "      <td>0</td>\n",
       "    </tr>\n",
       "  </tbody>\n",
       "</table>\n",
       "</div>"
      ],
      "text/plain": [
       "         ph    Hardness        Solids  Chloramines     Sulfate  Conductivity  \\\n",
       "0       NaN  204.890455  20791.318981     7.300212  368.516441    564.308654   \n",
       "1  3.716080  129.422921  18630.057858     6.635246         NaN    592.885359   \n",
       "2  8.099124  224.236259  19909.541732     9.275884         NaN    418.606213   \n",
       "3  8.316766  214.373394  22018.417441     8.059332  356.886136    363.266516   \n",
       "4  9.092223  181.101509  17978.986339     6.546600  310.135738    398.410813   \n",
       "\n",
       "   Organic_carbon  Trihalomethanes  Turbidity  Potability  \n",
       "0       10.379783        86.990970   2.963135           0  \n",
       "1       15.180013        56.329076   4.500656           0  \n",
       "2       16.868637        66.420093   3.055934           0  \n",
       "3       18.436524       100.341674   4.628771           0  \n",
       "4       11.558279        31.997993   4.075075           0  "
      ]
     },
     "execution_count": 4,
     "metadata": {},
     "output_type": "execute_result"
    }
   ],
   "source": [
    "df_water.head()"
   ]
  },
  {
   "cell_type": "code",
   "execution_count": 5,
   "id": "ae473980",
   "metadata": {},
   "outputs": [
    {
     "data": {
      "text/html": [
       "<div>\n",
       "<style scoped>\n",
       "    .dataframe tbody tr th:only-of-type {\n",
       "        vertical-align: middle;\n",
       "    }\n",
       "\n",
       "    .dataframe tbody tr th {\n",
       "        vertical-align: top;\n",
       "    }\n",
       "\n",
       "    .dataframe thead th {\n",
       "        text-align: right;\n",
       "    }\n",
       "</style>\n",
       "<table border=\"1\" class=\"dataframe\">\n",
       "  <thead>\n",
       "    <tr style=\"text-align: right;\">\n",
       "      <th></th>\n",
       "      <th>ph</th>\n",
       "      <th>Hardness</th>\n",
       "      <th>Solids</th>\n",
       "      <th>Chloramines</th>\n",
       "      <th>Sulfate</th>\n",
       "      <th>Conductivity</th>\n",
       "      <th>Organic_carbon</th>\n",
       "      <th>Trihalomethanes</th>\n",
       "      <th>Turbidity</th>\n",
       "      <th>Potability</th>\n",
       "    </tr>\n",
       "  </thead>\n",
       "  <tbody>\n",
       "    <tr>\n",
       "      <th>3271</th>\n",
       "      <td>4.668102</td>\n",
       "      <td>193.681736</td>\n",
       "      <td>47580.99160</td>\n",
       "      <td>7.166639</td>\n",
       "      <td>359.948574</td>\n",
       "      <td>526.424171</td>\n",
       "      <td>13.894419</td>\n",
       "      <td>66.687695</td>\n",
       "      <td>4.435821</td>\n",
       "      <td>1</td>\n",
       "    </tr>\n",
       "    <tr>\n",
       "      <th>3272</th>\n",
       "      <td>7.808856</td>\n",
       "      <td>193.553212</td>\n",
       "      <td>17329.80216</td>\n",
       "      <td>8.061362</td>\n",
       "      <td>NaN</td>\n",
       "      <td>392.449580</td>\n",
       "      <td>19.903225</td>\n",
       "      <td>NaN</td>\n",
       "      <td>2.798243</td>\n",
       "      <td>1</td>\n",
       "    </tr>\n",
       "    <tr>\n",
       "      <th>3273</th>\n",
       "      <td>9.419510</td>\n",
       "      <td>175.762646</td>\n",
       "      <td>33155.57822</td>\n",
       "      <td>7.350233</td>\n",
       "      <td>NaN</td>\n",
       "      <td>432.044783</td>\n",
       "      <td>11.039070</td>\n",
       "      <td>69.845400</td>\n",
       "      <td>3.298875</td>\n",
       "      <td>1</td>\n",
       "    </tr>\n",
       "    <tr>\n",
       "      <th>3274</th>\n",
       "      <td>5.126763</td>\n",
       "      <td>230.603758</td>\n",
       "      <td>11983.86938</td>\n",
       "      <td>6.303357</td>\n",
       "      <td>NaN</td>\n",
       "      <td>402.883113</td>\n",
       "      <td>11.168946</td>\n",
       "      <td>77.488213</td>\n",
       "      <td>4.708658</td>\n",
       "      <td>1</td>\n",
       "    </tr>\n",
       "    <tr>\n",
       "      <th>3275</th>\n",
       "      <td>7.874671</td>\n",
       "      <td>195.102299</td>\n",
       "      <td>17404.17706</td>\n",
       "      <td>7.509306</td>\n",
       "      <td>NaN</td>\n",
       "      <td>327.459761</td>\n",
       "      <td>16.140368</td>\n",
       "      <td>78.698446</td>\n",
       "      <td>2.309149</td>\n",
       "      <td>1</td>\n",
       "    </tr>\n",
       "  </tbody>\n",
       "</table>\n",
       "</div>"
      ],
      "text/plain": [
       "            ph    Hardness       Solids  Chloramines     Sulfate  \\\n",
       "3271  4.668102  193.681736  47580.99160     7.166639  359.948574   \n",
       "3272  7.808856  193.553212  17329.80216     8.061362         NaN   \n",
       "3273  9.419510  175.762646  33155.57822     7.350233         NaN   \n",
       "3274  5.126763  230.603758  11983.86938     6.303357         NaN   \n",
       "3275  7.874671  195.102299  17404.17706     7.509306         NaN   \n",
       "\n",
       "      Conductivity  Organic_carbon  Trihalomethanes  Turbidity  Potability  \n",
       "3271    526.424171       13.894419        66.687695   4.435821           1  \n",
       "3272    392.449580       19.903225              NaN   2.798243           1  \n",
       "3273    432.044783       11.039070        69.845400   3.298875           1  \n",
       "3274    402.883113       11.168946        77.488213   4.708658           1  \n",
       "3275    327.459761       16.140368        78.698446   2.309149           1  "
      ]
     },
     "execution_count": 5,
     "metadata": {},
     "output_type": "execute_result"
    }
   ],
   "source": [
    "df_water.tail()"
   ]
  },
  {
   "cell_type": "code",
   "execution_count": 5,
   "id": "04a245d3",
   "metadata": {},
   "outputs": [
    {
     "name": "stdout",
     "output_type": "stream",
     "text": [
      "<class 'pandas.core.frame.DataFrame'>\n",
      "RangeIndex: 3276 entries, 0 to 3275\n",
      "Data columns (total 10 columns):\n",
      " #   Column           Non-Null Count  Dtype  \n",
      "---  ------           --------------  -----  \n",
      " 0   ph               2785 non-null   float64\n",
      " 1   Hardness         3276 non-null   float64\n",
      " 2   Solids           3276 non-null   float64\n",
      " 3   Chloramines      3276 non-null   float64\n",
      " 4   Sulfate          2495 non-null   float64\n",
      " 5   Conductivity     3276 non-null   float64\n",
      " 6   Organic_carbon   3276 non-null   float64\n",
      " 7   Trihalomethanes  3114 non-null   float64\n",
      " 8   Turbidity        3276 non-null   float64\n",
      " 9   Potability       3276 non-null   int64  \n",
      "dtypes: float64(9), int64(1)\n",
      "memory usage: 256.1 KB\n"
     ]
    }
   ],
   "source": [
    "#GETTING THE BASIC INFO\n",
    "df_water.info()"
   ]
  },
  {
   "cell_type": "code",
   "execution_count": 7,
   "id": "4ea07757",
   "metadata": {},
   "outputs": [],
   "source": [
    "#we observe sulphate,trihalomethanes and ph values are missing."
   ]
  },
  {
   "cell_type": "code",
   "execution_count": 6,
   "id": "7c4cfd5b",
   "metadata": {},
   "outputs": [
    {
     "name": "stdout",
     "output_type": "stream",
     "text": [
      "ph                 491\n",
      "Hardness             0\n",
      "Solids               0\n",
      "Chloramines          0\n",
      "Sulfate            781\n",
      "Conductivity         0\n",
      "Organic_carbon       0\n",
      "Trihalomethanes    162\n",
      "Turbidity            0\n",
      "Potability           0\n",
      "dtype: int64\n"
     ]
    }
   ],
   "source": [
    "#sum of missing values in particular columns(ph-491,hardness-781,trilhalomethanes-162)\n",
    "print(df_water.isnull().sum())"
   ]
  },
  {
   "cell_type": "code",
   "execution_count": 7,
   "id": "368736db",
   "metadata": {},
   "outputs": [
    {
     "name": "stdout",
     "output_type": "stream",
     "text": [
      "ph                 14.987790\n",
      "Hardness            0.000000\n",
      "Solids              0.000000\n",
      "Chloramines         0.000000\n",
      "Sulfate            23.840049\n",
      "Conductivity        0.000000\n",
      "Organic_carbon      0.000000\n",
      "Trihalomethanes     4.945055\n",
      "Turbidity           0.000000\n",
      "Potability          0.000000\n",
      "dtype: float64\n",
      "Deleting cols would not be an appropriate option as we will be deleting important features/cols,Also deleting rows would be insigntificant here.\n"
     ]
    }
   ],
   "source": [
    "#DATA CLEANING STEP 1:HANDLE MISSING VALUES\n",
    "#we will check the % of missing values\n",
    "print(100*df_water.isnull().sum()/3276)\n",
    "print(\"Deleting cols would not be an appropriate option as we will be deleting important features/cols,Also deleting rows would be insigntificant here.\")"
   ]
  },
  {
   "cell_type": "code",
   "execution_count": 8,
   "id": "5f5eccf9",
   "metadata": {},
   "outputs": [
    {
     "data": {
      "text/plain": [
       "<Axes: xlabel='ph', ylabel='Density'>"
      ]
     },
     "execution_count": 8,
     "metadata": {},
     "output_type": "execute_result"
    },
    {
     "data": {
      "image/png": "[encoded data removed]",
      "text/plain": [
       "<Figure size 640x480 with 1 Axes>"
      ]
     },
     "metadata": {},
     "output_type": "display_data"
    }
   ],
   "source": [
    "#CHATGPT:Mean/Median Imputation: Use these methods when the distribution of the data \n",
    "#is approximately normal or not heavily skewed.Median imputation is often preferred \n",
    "#when the data contains outliers, as it's less sensitive to extreme values.\n",
    "import seaborn as sns\n",
    "sns.kdeplot(df_water.ph)"
   ]
  },
  {
   "cell_type": "code",
   "execution_count": 9,
   "id": "cb87e041",
   "metadata": {},
   "outputs": [
    {
     "data": {
      "text/plain": [
       "<Axes: xlabel='Sulfate', ylabel='Density'>"
      ]
     },
     "execution_count": 9,
     "metadata": {},
     "output_type": "execute_result"
    },
    {
     "data": {
      "image/png": "[encoded data removed]",
      "text/plain": [
       "<Figure size 640x480 with 1 Axes>"
      ]
     },
     "metadata": {},
     "output_type": "display_data"
    }
   ],
   "source": [
    "sns.kdeplot(df_water.Sulfate)"
   ]
  },
  {
   "cell_type": "code",
   "execution_count": 10,
   "id": "a9c1bd23",
   "metadata": {},
   "outputs": [
    {
     "data": {
      "text/plain": [
       "<Axes: xlabel='Trihalomethanes', ylabel='Density'>"
      ]
     },
     "execution_count": 10,
     "metadata": {},
     "output_type": "execute_result"
    },
    {
     "data": {
      "image/png": "[encoded data removed]",
      "text/plain": [
       "<Figure size 640x480 with 1 Axes>"
      ]
     },
     "metadata": {},
     "output_type": "display_data"
    }
   ],
   "source": [
    "sns.kdeplot(df_water.Trihalomethanes)"
   ]
  },
  {
   "cell_type": "code",
   "execution_count": 12,
   "id": "5550aab9",
   "metadata": {},
   "outputs": [
    {
     "data": {
      "text/plain": [
       "<Axes: >"
      ]
     },
     "execution_count": 12,
     "metadata": {},
     "output_type": "execute_result"
    },
    {
     "data": {
      "image/png": "[encoded data removed]",
      "text/plain": [
       "<Figure size 1500x500 with 1 Axes>"
      ]
     },
     "metadata": {},
     "output_type": "display_data"
    }
   ],
   "source": [
    "# to decide out of mean and median lets check for outliers\n",
    "plt.figure(figsize=(15,5))\n",
    "sns.boxplot(df_water)"
   ]
  },
  {
   "cell_type": "code",
   "execution_count": 14,
   "id": "c50e48c0",
   "metadata": {},
   "outputs": [],
   "source": [
    "#we observed that only solid columns have outliers we will surely treat it but\n",
    "#as ph,trihalomethanes and sulfate dont have any outliers lets fill those col with mean"
   ]
  },
  {
   "cell_type": "code",
   "execution_count": 13,
   "id": "d92e3e19",
   "metadata": {},
   "outputs": [
    {
     "data": {
      "text/html": [
       "<div>\n",
       "<style scoped>\n",
       "    .dataframe tbody tr th:only-of-type {\n",
       "        vertical-align: middle;\n",
       "    }\n",
       "\n",
       "    .dataframe tbody tr th {\n",
       "        vertical-align: top;\n",
       "    }\n",
       "\n",
       "    .dataframe thead th {\n",
       "        text-align: right;\n",
       "    }\n",
       "</style>\n",
       "<table border=\"1\" class=\"dataframe\">\n",
       "  <thead>\n",
       "    <tr style=\"text-align: right;\">\n",
       "      <th></th>\n",
       "      <th>ph</th>\n",
       "      <th>Hardness</th>\n",
       "      <th>Solids</th>\n",
       "      <th>Chloramines</th>\n",
       "      <th>Sulfate</th>\n",
       "      <th>Conductivity</th>\n",
       "      <th>Organic_carbon</th>\n",
       "      <th>Trihalomethanes</th>\n",
       "      <th>Turbidity</th>\n",
       "      <th>Potability</th>\n",
       "    </tr>\n",
       "  </thead>\n",
       "  <tbody>\n",
       "    <tr>\n",
       "      <th>count</th>\n",
       "      <td>2785.000000</td>\n",
       "      <td>3276.000000</td>\n",
       "      <td>3276.000000</td>\n",
       "      <td>3276.000000</td>\n",
       "      <td>2495.000000</td>\n",
       "      <td>3276.000000</td>\n",
       "      <td>3276.000000</td>\n",
       "      <td>3114.000000</td>\n",
       "      <td>3276.000000</td>\n",
       "      <td>3276.000000</td>\n",
       "    </tr>\n",
       "    <tr>\n",
       "      <th>mean</th>\n",
       "      <td>7.080795</td>\n",
       "      <td>196.369496</td>\n",
       "      <td>22014.092526</td>\n",
       "      <td>7.122277</td>\n",
       "      <td>333.775777</td>\n",
       "      <td>426.205111</td>\n",
       "      <td>14.284970</td>\n",
       "      <td>66.396293</td>\n",
       "      <td>3.966786</td>\n",
       "      <td>0.390110</td>\n",
       "    </tr>\n",
       "    <tr>\n",
       "      <th>std</th>\n",
       "      <td>1.594320</td>\n",
       "      <td>32.879761</td>\n",
       "      <td>8768.570828</td>\n",
       "      <td>1.583085</td>\n",
       "      <td>41.416840</td>\n",
       "      <td>80.824064</td>\n",
       "      <td>3.308162</td>\n",
       "      <td>16.175008</td>\n",
       "      <td>0.780382</td>\n",
       "      <td>0.487849</td>\n",
       "    </tr>\n",
       "    <tr>\n",
       "      <th>min</th>\n",
       "      <td>0.000000</td>\n",
       "      <td>47.432000</td>\n",
       "      <td>320.942611</td>\n",
       "      <td>0.352000</td>\n",
       "      <td>129.000000</td>\n",
       "      <td>181.483754</td>\n",
       "      <td>2.200000</td>\n",
       "      <td>0.738000</td>\n",
       "      <td>1.450000</td>\n",
       "      <td>0.000000</td>\n",
       "    </tr>\n",
       "    <tr>\n",
       "      <th>25%</th>\n",
       "      <td>6.093092</td>\n",
       "      <td>176.850538</td>\n",
       "      <td>15666.690297</td>\n",
       "      <td>6.127421</td>\n",
       "      <td>307.699498</td>\n",
       "      <td>365.734414</td>\n",
       "      <td>12.065801</td>\n",
       "      <td>55.844536</td>\n",
       "      <td>3.439711</td>\n",
       "      <td>0.000000</td>\n",
       "    </tr>\n",
       "    <tr>\n",
       "      <th>50%</th>\n",
       "      <td>7.036752</td>\n",
       "      <td>196.967627</td>\n",
       "      <td>20927.833607</td>\n",
       "      <td>7.130299</td>\n",
       "      <td>333.073546</td>\n",
       "      <td>421.884968</td>\n",
       "      <td>14.218338</td>\n",
       "      <td>66.622485</td>\n",
       "      <td>3.955028</td>\n",
       "      <td>0.000000</td>\n",
       "    </tr>\n",
       "    <tr>\n",
       "      <th>75%</th>\n",
       "      <td>8.062066</td>\n",
       "      <td>216.667456</td>\n",
       "      <td>27332.762127</td>\n",
       "      <td>8.114887</td>\n",
       "      <td>359.950170</td>\n",
       "      <td>481.792304</td>\n",
       "      <td>16.557652</td>\n",
       "      <td>77.337473</td>\n",
       "      <td>4.500320</td>\n",
       "      <td>1.000000</td>\n",
       "    </tr>\n",
       "    <tr>\n",
       "      <th>max</th>\n",
       "      <td>14.000000</td>\n",
       "      <td>323.124000</td>\n",
       "      <td>61227.196008</td>\n",
       "      <td>13.127000</td>\n",
       "      <td>481.030642</td>\n",
       "      <td>753.342620</td>\n",
       "      <td>28.300000</td>\n",
       "      <td>124.000000</td>\n",
       "      <td>6.739000</td>\n",
       "      <td>1.000000</td>\n",
       "    </tr>\n",
       "  </tbody>\n",
       "</table>\n",
       "</div>"
      ],
      "text/plain": [
       "                ph     Hardness        Solids  Chloramines      Sulfate  \\\n",
       "count  2785.000000  3276.000000   3276.000000  3276.000000  2495.000000   \n",
       "mean      7.080795   196.369496  22014.092526     7.122277   333.775777   \n",
       "std       1.594320    32.879761   8768.570828     1.583085    41.416840   \n",
       "min       0.000000    47.432000    320.942611     0.352000   129.000000   \n",
       "25%       6.093092   176.850538  15666.690297     6.127421   307.699498   \n",
       "50%       7.036752   196.967627  20927.833607     7.130299   333.073546   \n",
       "75%       8.062066   216.667456  27332.762127     8.114887   359.950170   \n",
       "max      14.000000   323.124000  61227.196008    13.127000   481.030642   \n",
       "\n",
       "       Conductivity  Organic_carbon  Trihalomethanes    Turbidity   Potability  \n",
       "count   3276.000000     3276.000000      3114.000000  3276.000000  3276.000000  \n",
       "mean     426.205111       14.284970        66.396293     3.966786     0.390110  \n",
       "std       80.824064        3.308162        16.175008     0.780382     0.487849  \n",
       "min      181.483754        2.200000         0.738000     1.450000     0.000000  \n",
       "25%      365.734414       12.065801        55.844536     3.439711     0.000000  \n",
       "50%      421.884968       14.218338        66.622485     3.955028     0.000000  \n",
       "75%      481.792304       16.557652        77.337473     4.500320     1.000000  \n",
       "max      753.342620       28.300000       124.000000     6.739000     1.000000  "
      ]
     },
     "execution_count": 13,
     "metadata": {},
     "output_type": "execute_result"
    }
   ],
   "source": [
    "#to check certain statistics\n",
    "df_water.describe()"
   ]
  },
  {
   "cell_type": "code",
   "execution_count": 14,
   "id": "affdf5c6",
   "metadata": {},
   "outputs": [
    {
     "data": {
      "text/plain": [
       "7.080794504276835"
      ]
     },
     "execution_count": 14,
     "metadata": {},
     "output_type": "execute_result"
    }
   ],
   "source": [
    "df_water['ph'].mean()"
   ]
  },
  {
   "cell_type": "code",
   "execution_count": 15,
   "id": "e9fdefd4",
   "metadata": {},
   "outputs": [],
   "source": [
    "df_water['ph']=df_water['ph'].fillna(df_water['ph'].mean())"
   ]
  },
  {
   "cell_type": "code",
   "execution_count": 16,
   "id": "a26fc8d9",
   "metadata": {},
   "outputs": [
    {
     "name": "stdout",
     "output_type": "stream",
     "text": [
      "ph                   0\n",
      "Hardness             0\n",
      "Solids               0\n",
      "Chloramines          0\n",
      "Sulfate            781\n",
      "Conductivity         0\n",
      "Organic_carbon       0\n",
      "Trihalomethanes    162\n",
      "Turbidity            0\n",
      "Potability           0\n",
      "dtype: int64\n"
     ]
    }
   ],
   "source": [
    "print(df_water.isnull().sum())"
   ]
  },
  {
   "cell_type": "code",
   "execution_count": 17,
   "id": "18a52795",
   "metadata": {},
   "outputs": [
    {
     "data": {
      "text/plain": [
       "333.7757766108135"
      ]
     },
     "execution_count": 17,
     "metadata": {},
     "output_type": "execute_result"
    }
   ],
   "source": [
    "df_water['Sulfate'].mean()"
   ]
  },
  {
   "cell_type": "code",
   "execution_count": 18,
   "id": "c9303fac",
   "metadata": {},
   "outputs": [],
   "source": [
    "df_water['Sulfate']=df_water['Sulfate'].fillna(df_water['Sulfate'].mean())"
   ]
  },
  {
   "cell_type": "code",
   "execution_count": 19,
   "id": "36f7262c",
   "metadata": {},
   "outputs": [
    {
     "name": "stdout",
     "output_type": "stream",
     "text": [
      "ph                   0\n",
      "Hardness             0\n",
      "Solids               0\n",
      "Chloramines          0\n",
      "Sulfate              0\n",
      "Conductivity         0\n",
      "Organic_carbon       0\n",
      "Trihalomethanes    162\n",
      "Turbidity            0\n",
      "Potability           0\n",
      "dtype: int64\n"
     ]
    }
   ],
   "source": [
    "print(df_water.isnull().sum())"
   ]
  },
  {
   "cell_type": "code",
   "execution_count": 20,
   "id": "98555f72",
   "metadata": {},
   "outputs": [
    {
     "data": {
      "text/plain": [
       "66.39629294676803"
      ]
     },
     "execution_count": 20,
     "metadata": {},
     "output_type": "execute_result"
    }
   ],
   "source": [
    "df_water['Trihalomethanes'].mean()"
   ]
  },
  {
   "cell_type": "code",
   "execution_count": 21,
   "id": "90519c49",
   "metadata": {},
   "outputs": [],
   "source": [
    "df_water['Trihalomethanes']=df_water['Trihalomethanes'].fillna(df_water['Trihalomethanes'].mean())"
   ]
  },
  {
   "cell_type": "code",
   "execution_count": 22,
   "id": "caa8200a",
   "metadata": {},
   "outputs": [
    {
     "name": "stdout",
     "output_type": "stream",
     "text": [
      "ph                 0\n",
      "Hardness           0\n",
      "Solids             0\n",
      "Chloramines        0\n",
      "Sulfate            0\n",
      "Conductivity       0\n",
      "Organic_carbon     0\n",
      "Trihalomethanes    0\n",
      "Turbidity          0\n",
      "Potability         0\n",
      "dtype: int64\n"
     ]
    }
   ],
   "source": [
    "print(df_water.isnull().sum())"
   ]
  },
  {
   "cell_type": "code",
   "execution_count": 23,
   "id": "70e7fac2",
   "metadata": {},
   "outputs": [
    {
     "name": "stdout",
     "output_type": "stream",
     "text": [
      "0.6216344855169127\n"
     ]
    }
   ],
   "source": [
    "print(df_water.Solids.skew())"
   ]
  },
  {
   "cell_type": "code",
   "execution_count": 25,
   "id": "59406099",
   "metadata": {},
   "outputs": [
    {
     "data": {
      "text/plain": [
       "(array([ 283,  366,  546,  666, 1031, 1068, 1077, 1186, 1554, 1746, 1784,\n",
       "        1955, 2497, 2602, 3014, 3130, 3150, 3162, 3190, 3226], dtype=int64),)"
      ]
     },
     "execution_count": 25,
     "metadata": {},
     "output_type": "execute_result"
    }
   ],
   "source": [
    "from scipy import stats\n",
    "\n",
    "# Calculate Z-scores\n",
    "z_scores = stats.zscore(df_water['Solids'])\n",
    "\n",
    "# Identify outliers (using a threshold of 3)\n",
    "outlier_indices = np.where(np.abs(z_scores) > 3)\n",
    "outlier_indices\n"
   ]
  },
  {
   "cell_type": "code",
   "execution_count": 26,
   "id": "e928643e",
   "metadata": {},
   "outputs": [],
   "source": [
    "cleaned_df = df_water.drop(df_water.index[outlier_indices])\n",
    "df_water=cleaned_df"
   ]
  },
  {
   "cell_type": "code",
   "execution_count": 27,
   "id": "72759db5",
   "metadata": {},
   "outputs": [
    {
     "data": {
      "text/html": [
       "<div>\n",
       "<style scoped>\n",
       "    .dataframe tbody tr th:only-of-type {\n",
       "        vertical-align: middle;\n",
       "    }\n",
       "\n",
       "    .dataframe tbody tr th {\n",
       "        vertical-align: top;\n",
       "    }\n",
       "\n",
       "    .dataframe thead th {\n",
       "        text-align: right;\n",
       "    }\n",
       "</style>\n",
       "<table border=\"1\" class=\"dataframe\">\n",
       "  <thead>\n",
       "    <tr style=\"text-align: right;\">\n",
       "      <th></th>\n",
       "      <th>ph</th>\n",
       "      <th>Hardness</th>\n",
       "      <th>Solids</th>\n",
       "      <th>Chloramines</th>\n",
       "      <th>Sulfate</th>\n",
       "      <th>Conductivity</th>\n",
       "      <th>Organic_carbon</th>\n",
       "      <th>Trihalomethanes</th>\n",
       "      <th>Turbidity</th>\n",
       "      <th>Potability</th>\n",
       "    </tr>\n",
       "  </thead>\n",
       "  <tbody>\n",
       "    <tr>\n",
       "      <th>count</th>\n",
       "      <td>3256.000000</td>\n",
       "      <td>3256.000000</td>\n",
       "      <td>3256.000000</td>\n",
       "      <td>3256.000000</td>\n",
       "      <td>3256.000000</td>\n",
       "      <td>3256.000000</td>\n",
       "      <td>3256.000000</td>\n",
       "      <td>3256.000000</td>\n",
       "      <td>3256.000000</td>\n",
       "      <td>3256.000000</td>\n",
       "    </tr>\n",
       "    <tr>\n",
       "      <th>mean</th>\n",
       "      <td>7.080845</td>\n",
       "      <td>196.431872</td>\n",
       "      <td>21827.840935</td>\n",
       "      <td>7.128982</td>\n",
       "      <td>333.896923</td>\n",
       "      <td>426.203585</td>\n",
       "      <td>14.286245</td>\n",
       "      <td>66.354578</td>\n",
       "      <td>3.967191</td>\n",
       "      <td>0.388821</td>\n",
       "    </tr>\n",
       "    <tr>\n",
       "      <th>std</th>\n",
       "      <td>1.460770</td>\n",
       "      <td>32.815606</td>\n",
       "      <td>8461.651274</td>\n",
       "      <td>1.579431</td>\n",
       "      <td>35.890759</td>\n",
       "      <td>80.879918</td>\n",
       "      <td>3.312300</td>\n",
       "      <td>15.766100</td>\n",
       "      <td>0.779735</td>\n",
       "      <td>0.487557</td>\n",
       "    </tr>\n",
       "    <tr>\n",
       "      <th>min</th>\n",
       "      <td>0.227499</td>\n",
       "      <td>47.432000</td>\n",
       "      <td>320.942611</td>\n",
       "      <td>0.352000</td>\n",
       "      <td>180.206746</td>\n",
       "      <td>181.483754</td>\n",
       "      <td>2.200000</td>\n",
       "      <td>0.738000</td>\n",
       "      <td>1.450000</td>\n",
       "      <td>0.000000</td>\n",
       "    </tr>\n",
       "    <tr>\n",
       "      <th>25%</th>\n",
       "      <td>6.277673</td>\n",
       "      <td>176.961992</td>\n",
       "      <td>15617.966076</td>\n",
       "      <td>6.133588</td>\n",
       "      <td>317.273539</td>\n",
       "      <td>365.726221</td>\n",
       "      <td>12.064863</td>\n",
       "      <td>56.524092</td>\n",
       "      <td>3.440160</td>\n",
       "      <td>0.000000</td>\n",
       "    </tr>\n",
       "    <tr>\n",
       "      <th>50%</th>\n",
       "      <td>7.080795</td>\n",
       "      <td>197.039446</td>\n",
       "      <td>20863.398168</td>\n",
       "      <td>7.133077</td>\n",
       "      <td>333.775777</td>\n",
       "      <td>421.926811</td>\n",
       "      <td>14.216595</td>\n",
       "      <td>66.396293</td>\n",
       "      <td>3.954840</td>\n",
       "      <td>0.000000</td>\n",
       "    </tr>\n",
       "    <tr>\n",
       "      <th>75%</th>\n",
       "      <td>7.860374</td>\n",
       "      <td>216.674288</td>\n",
       "      <td>27194.313643</td>\n",
       "      <td>8.117140</td>\n",
       "      <td>350.398274</td>\n",
       "      <td>481.792304</td>\n",
       "      <td>16.560201</td>\n",
       "      <td>76.623913</td>\n",
       "      <td>4.500320</td>\n",
       "      <td>1.000000</td>\n",
       "    </tr>\n",
       "    <tr>\n",
       "      <th>max</th>\n",
       "      <td>14.000000</td>\n",
       "      <td>323.124000</td>\n",
       "      <td>48204.172192</td>\n",
       "      <td>13.127000</td>\n",
       "      <td>481.030642</td>\n",
       "      <td>753.342620</td>\n",
       "      <td>28.300000</td>\n",
       "      <td>124.000000</td>\n",
       "      <td>6.739000</td>\n",
       "      <td>1.000000</td>\n",
       "    </tr>\n",
       "  </tbody>\n",
       "</table>\n",
       "</div>"
      ],
      "text/plain": [
       "                ph     Hardness        Solids  Chloramines      Sulfate  \\\n",
       "count  3256.000000  3256.000000   3256.000000  3256.000000  3256.000000   \n",
       "mean      7.080845   196.431872  21827.840935     7.128982   333.896923   \n",
       "std       1.460770    32.815606   8461.651274     1.579431    35.890759   \n",
       "min       0.227499    47.432000    320.942611     0.352000   180.206746   \n",
       "25%       6.277673   176.961992  15617.966076     6.133588   317.273539   \n",
       "50%       7.080795   197.039446  20863.398168     7.133077   333.775777   \n",
       "75%       7.860374   216.674288  27194.313643     8.117140   350.398274   \n",
       "max      14.000000   323.124000  48204.172192    13.127000   481.030642   \n",
       "\n",
       "       Conductivity  Organic_carbon  Trihalomethanes    Turbidity   Potability  \n",
       "count   3256.000000     3256.000000      3256.000000  3256.000000  3256.000000  \n",
       "mean     426.203585       14.286245        66.354578     3.967191     0.388821  \n",
       "std       80.879918        3.312300        15.766100     0.779735     0.487557  \n",
       "min      181.483754        2.200000         0.738000     1.450000     0.000000  \n",
       "25%      365.726221       12.064863        56.524092     3.440160     0.000000  \n",
       "50%      421.926811       14.216595        66.396293     3.954840     0.000000  \n",
       "75%      481.792304       16.560201        76.623913     4.500320     1.000000  \n",
       "max      753.342620       28.300000       124.000000     6.739000     1.000000  "
      ]
     },
     "execution_count": 27,
     "metadata": {},
     "output_type": "execute_result"
    }
   ],
   "source": [
    "df_water.describe()"
   ]
  },
  {
   "cell_type": "code",
   "execution_count": 28,
   "id": "fc565fb8",
   "metadata": {},
   "outputs": [
    {
     "data": {
      "text/plain": [
       "<Axes: >"
      ]
     },
     "execution_count": 28,
     "metadata": {},
     "output_type": "execute_result"
    },
    {
     "data": {
      "image/png": "[encoded data removed]",
      "text/plain": [
       "<Figure size 1500x500 with 1 Axes>"
      ]
     },
     "metadata": {},
     "output_type": "display_data"
    }
   ],
   "source": [
    "#again checking outliers\n",
    "plt.figure(figsize=(15,5))\n",
    "sns.boxplot(df_water)"
   ]
  },
  {
   "cell_type": "code",
   "execution_count": 29,
   "id": "5bc881db",
   "metadata": {},
   "outputs": [
    {
     "data": {
      "text/plain": [
       "(array([ 983, 1335, 2000, 2666, 2744, 3216, 3251], dtype=int64),)"
      ]
     },
     "execution_count": 29,
     "metadata": {},
     "output_type": "execute_result"
    }
   ],
   "source": [
    "# Calculate Z-scores\n",
    "z_scores = stats.zscore(df_water['Solids'])\n",
    "\n",
    "# Identify outliers (using a threshold of 3)\n",
    "outlier_indices = np.where(np.abs(z_scores) > 3)\n",
    "outlier_indices"
   ]
  },
  {
   "cell_type": "code",
   "execution_count": 30,
   "id": "c4d0cd42",
   "metadata": {},
   "outputs": [],
   "source": [
    "cleaned_df = df_water.drop(df_water.index[outlier_indices])\n",
    "df_water=cleaned_df"
   ]
  },
  {
   "cell_type": "code",
   "execution_count": 31,
   "id": "4d56bf5d",
   "metadata": {},
   "outputs": [
    {
     "data": {
      "text/html": [
       "<div>\n",
       "<style scoped>\n",
       "    .dataframe tbody tr th:only-of-type {\n",
       "        vertical-align: middle;\n",
       "    }\n",
       "\n",
       "    .dataframe tbody tr th {\n",
       "        vertical-align: top;\n",
       "    }\n",
       "\n",
       "    .dataframe thead th {\n",
       "        text-align: right;\n",
       "    }\n",
       "</style>\n",
       "<table border=\"1\" class=\"dataframe\">\n",
       "  <thead>\n",
       "    <tr style=\"text-align: right;\">\n",
       "      <th></th>\n",
       "      <th>ph</th>\n",
       "      <th>Hardness</th>\n",
       "      <th>Solids</th>\n",
       "      <th>Chloramines</th>\n",
       "      <th>Sulfate</th>\n",
       "      <th>Conductivity</th>\n",
       "      <th>Organic_carbon</th>\n",
       "      <th>Trihalomethanes</th>\n",
       "      <th>Turbidity</th>\n",
       "      <th>Potability</th>\n",
       "    </tr>\n",
       "  </thead>\n",
       "  <tbody>\n",
       "    <tr>\n",
       "      <th>count</th>\n",
       "      <td>3249.000000</td>\n",
       "      <td>3249.000000</td>\n",
       "      <td>3249.000000</td>\n",
       "      <td>3249.000000</td>\n",
       "      <td>3249.000000</td>\n",
       "      <td>3249.000000</td>\n",
       "      <td>3249.000000</td>\n",
       "      <td>3249.000000</td>\n",
       "      <td>3249.000000</td>\n",
       "      <td>3249.000000</td>\n",
       "    </tr>\n",
       "    <tr>\n",
       "      <th>mean</th>\n",
       "      <td>7.084040</td>\n",
       "      <td>196.400643</td>\n",
       "      <td>21771.632793</td>\n",
       "      <td>7.128316</td>\n",
       "      <td>333.925669</td>\n",
       "      <td>426.145103</td>\n",
       "      <td>14.289657</td>\n",
       "      <td>66.364320</td>\n",
       "      <td>3.966739</td>\n",
       "      <td>0.388427</td>\n",
       "    </tr>\n",
       "    <tr>\n",
       "      <th>std</th>\n",
       "      <td>1.457901</td>\n",
       "      <td>32.793280</td>\n",
       "      <td>8383.539121</td>\n",
       "      <td>1.580262</td>\n",
       "      <td>35.897369</td>\n",
       "      <td>80.829964</td>\n",
       "      <td>3.309370</td>\n",
       "      <td>15.774948</td>\n",
       "      <td>0.779703</td>\n",
       "      <td>0.487468</td>\n",
       "    </tr>\n",
       "    <tr>\n",
       "      <th>min</th>\n",
       "      <td>0.227499</td>\n",
       "      <td>47.432000</td>\n",
       "      <td>320.942611</td>\n",
       "      <td>0.352000</td>\n",
       "      <td>180.206746</td>\n",
       "      <td>181.483754</td>\n",
       "      <td>2.200000</td>\n",
       "      <td>0.738000</td>\n",
       "      <td>1.450000</td>\n",
       "      <td>0.000000</td>\n",
       "    </tr>\n",
       "    <tr>\n",
       "      <th>25%</th>\n",
       "      <td>6.280978</td>\n",
       "      <td>176.939676</td>\n",
       "      <td>15613.160533</td>\n",
       "      <td>6.132546</td>\n",
       "      <td>317.280210</td>\n",
       "      <td>365.739122</td>\n",
       "      <td>12.065963</td>\n",
       "      <td>56.532387</td>\n",
       "      <td>3.439740</td>\n",
       "      <td>0.000000</td>\n",
       "    </tr>\n",
       "    <tr>\n",
       "      <th>50%</th>\n",
       "      <td>7.080795</td>\n",
       "      <td>197.028926</td>\n",
       "      <td>20852.764496</td>\n",
       "      <td>7.132154</td>\n",
       "      <td>333.775777</td>\n",
       "      <td>421.879854</td>\n",
       "      <td>14.219303</td>\n",
       "      <td>66.396293</td>\n",
       "      <td>3.954964</td>\n",
       "      <td>0.000000</td>\n",
       "    </tr>\n",
       "    <tr>\n",
       "      <th>75%</th>\n",
       "      <td>7.861178</td>\n",
       "      <td>216.673869</td>\n",
       "      <td>27172.893573</td>\n",
       "      <td>8.117114</td>\n",
       "      <td>350.401849</td>\n",
       "      <td>481.737559</td>\n",
       "      <td>16.563116</td>\n",
       "      <td>76.631186</td>\n",
       "      <td>4.500208</td>\n",
       "      <td>1.000000</td>\n",
       "    </tr>\n",
       "    <tr>\n",
       "      <th>max</th>\n",
       "      <td>14.000000</td>\n",
       "      <td>323.124000</td>\n",
       "      <td>47022.745845</td>\n",
       "      <td>13.127000</td>\n",
       "      <td>481.030642</td>\n",
       "      <td>753.342620</td>\n",
       "      <td>28.300000</td>\n",
       "      <td>124.000000</td>\n",
       "      <td>6.739000</td>\n",
       "      <td>1.000000</td>\n",
       "    </tr>\n",
       "  </tbody>\n",
       "</table>\n",
       "</div>"
      ],
      "text/plain": [
       "                ph     Hardness        Solids  Chloramines      Sulfate  \\\n",
       "count  3249.000000  3249.000000   3249.000000  3249.000000  3249.000000   \n",
       "mean      7.084040   196.400643  21771.632793     7.128316   333.925669   \n",
       "std       1.457901    32.793280   8383.539121     1.580262    35.897369   \n",
       "min       0.227499    47.432000    320.942611     0.352000   180.206746   \n",
       "25%       6.280978   176.939676  15613.160533     6.132546   317.280210   \n",
       "50%       7.080795   197.028926  20852.764496     7.132154   333.775777   \n",
       "75%       7.861178   216.673869  27172.893573     8.117114   350.401849   \n",
       "max      14.000000   323.124000  47022.745845    13.127000   481.030642   \n",
       "\n",
       "       Conductivity  Organic_carbon  Trihalomethanes    Turbidity   Potability  \n",
       "count   3249.000000     3249.000000      3249.000000  3249.000000  3249.000000  \n",
       "mean     426.145103       14.289657        66.364320     3.966739     0.388427  \n",
       "std       80.829964        3.309370        15.774948     0.779703     0.487468  \n",
       "min      181.483754        2.200000         0.738000     1.450000     0.000000  \n",
       "25%      365.739122       12.065963        56.532387     3.439740     0.000000  \n",
       "50%      421.879854       14.219303        66.396293     3.954964     0.000000  \n",
       "75%      481.737559       16.563116        76.631186     4.500208     1.000000  \n",
       "max      753.342620       28.300000       124.000000     6.739000     1.000000  "
      ]
     },
     "execution_count": 31,
     "metadata": {},
     "output_type": "execute_result"
    }
   ],
   "source": [
    "df_water.describe()"
   ]
  },
  {
   "cell_type": "code",
   "execution_count": 32,
   "id": "5fd25382",
   "metadata": {},
   "outputs": [
    {
     "data": {
      "text/plain": [
       "<Axes: >"
      ]
     },
     "execution_count": 32,
     "metadata": {},
     "output_type": "execute_result"
    },
    {
     "data": {
      "image/png": "[encoded data removed]",
      "text/plain": [
       "<Figure size 1500x500 with 1 Axes>"
      ]
     },
     "metadata": {},
     "output_type": "display_data"
    }
   ],
   "source": [
    "#again checking outliers\n",
    "plt.figure(figsize=(15,5))\n",
    "sns.boxplot(df_water)"
   ]
  },
  {
   "cell_type": "code",
   "execution_count": 33,
   "id": "8a1c0ba7",
   "metadata": {},
   "outputs": [
    {
     "data": {
      "text/plain": [
       "(array([ 403, 1970], dtype=int64),)"
      ]
     },
     "execution_count": 33,
     "metadata": {},
     "output_type": "execute_result"
    }
   ],
   "source": [
    "# Calculate Z-scores\n",
    "z_scores = stats.zscore(df_water['Solids'])\n",
    "\n",
    "# Identify outliers (using a threshold of 3)\n",
    "outlier_indices = np.where(np.abs(z_scores) > 3)\n",
    "outlier_indices"
   ]
  },
  {
   "cell_type": "code",
   "execution_count": 34,
   "id": "2a0b56af",
   "metadata": {},
   "outputs": [],
   "source": [
    "cleaned_df = df_water.drop(df_water.index[outlier_indices])\n",
    "df_water=cleaned_df"
   ]
  },
  {
   "cell_type": "code",
   "execution_count": 35,
   "id": "10d0b245",
   "metadata": {},
   "outputs": [
    {
     "data": {
      "text/html": [
       "<div>\n",
       "<style scoped>\n",
       "    .dataframe tbody tr th:only-of-type {\n",
       "        vertical-align: middle;\n",
       "    }\n",
       "\n",
       "    .dataframe tbody tr th {\n",
       "        vertical-align: top;\n",
       "    }\n",
       "\n",
       "    .dataframe thead th {\n",
       "        text-align: right;\n",
       "    }\n",
       "</style>\n",
       "<table border=\"1\" class=\"dataframe\">\n",
       "  <thead>\n",
       "    <tr style=\"text-align: right;\">\n",
       "      <th></th>\n",
       "      <th>ph</th>\n",
       "      <th>Hardness</th>\n",
       "      <th>Solids</th>\n",
       "      <th>Chloramines</th>\n",
       "      <th>Sulfate</th>\n",
       "      <th>Conductivity</th>\n",
       "      <th>Organic_carbon</th>\n",
       "      <th>Trihalomethanes</th>\n",
       "      <th>Turbidity</th>\n",
       "      <th>Potability</th>\n",
       "    </tr>\n",
       "  </thead>\n",
       "  <tbody>\n",
       "    <tr>\n",
       "      <th>count</th>\n",
       "      <td>3247.000000</td>\n",
       "      <td>3247.000000</td>\n",
       "      <td>3247.000000</td>\n",
       "      <td>3247.000000</td>\n",
       "      <td>3247.000000</td>\n",
       "      <td>3247.000000</td>\n",
       "      <td>3247.000000</td>\n",
       "      <td>3247.000000</td>\n",
       "      <td>3247.000000</td>\n",
       "      <td>3247.000000</td>\n",
       "    </tr>\n",
       "    <tr>\n",
       "      <th>mean</th>\n",
       "      <td>7.083841</td>\n",
       "      <td>196.375108</td>\n",
       "      <td>21756.107273</td>\n",
       "      <td>7.127881</td>\n",
       "      <td>333.962084</td>\n",
       "      <td>426.061070</td>\n",
       "      <td>14.289388</td>\n",
       "      <td>66.360464</td>\n",
       "      <td>3.966832</td>\n",
       "      <td>0.388051</td>\n",
       "    </tr>\n",
       "    <tr>\n",
       "      <th>std</th>\n",
       "      <td>1.458305</td>\n",
       "      <td>32.765258</td>\n",
       "      <td>8362.735123</td>\n",
       "      <td>1.580622</td>\n",
       "      <td>35.877115</td>\n",
       "      <td>80.783769</td>\n",
       "      <td>3.310366</td>\n",
       "      <td>15.779002</td>\n",
       "      <td>0.779898</td>\n",
       "      <td>0.487381</td>\n",
       "    </tr>\n",
       "    <tr>\n",
       "      <th>min</th>\n",
       "      <td>0.227499</td>\n",
       "      <td>47.432000</td>\n",
       "      <td>320.942611</td>\n",
       "      <td>0.352000</td>\n",
       "      <td>180.206746</td>\n",
       "      <td>181.483754</td>\n",
       "      <td>2.200000</td>\n",
       "      <td>0.738000</td>\n",
       "      <td>1.450000</td>\n",
       "      <td>0.000000</td>\n",
       "    </tr>\n",
       "    <tr>\n",
       "      <th>25%</th>\n",
       "      <td>6.280942</td>\n",
       "      <td>176.917854</td>\n",
       "      <td>15605.400708</td>\n",
       "      <td>6.132339</td>\n",
       "      <td>317.301524</td>\n",
       "      <td>365.713321</td>\n",
       "      <td>12.065640</td>\n",
       "      <td>56.515797</td>\n",
       "      <td>3.439682</td>\n",
       "      <td>0.000000</td>\n",
       "    </tr>\n",
       "    <tr>\n",
       "      <th>50%</th>\n",
       "      <td>7.080795</td>\n",
       "      <td>197.028926</td>\n",
       "      <td>20849.190737</td>\n",
       "      <td>7.131704</td>\n",
       "      <td>333.775777</td>\n",
       "      <td>421.664482</td>\n",
       "      <td>14.217373</td>\n",
       "      <td>66.396293</td>\n",
       "      <td>3.954964</td>\n",
       "      <td>0.000000</td>\n",
       "    </tr>\n",
       "    <tr>\n",
       "      <th>75%</th>\n",
       "      <td>7.862914</td>\n",
       "      <td>216.669594</td>\n",
       "      <td>27161.421110</td>\n",
       "      <td>8.116441</td>\n",
       "      <td>350.416395</td>\n",
       "      <td>481.411301</td>\n",
       "      <td>16.563141</td>\n",
       "      <td>76.632992</td>\n",
       "      <td>4.500432</td>\n",
       "      <td>1.000000</td>\n",
       "    </tr>\n",
       "    <tr>\n",
       "      <th>max</th>\n",
       "      <td>14.000000</td>\n",
       "      <td>323.124000</td>\n",
       "      <td>46718.555965</td>\n",
       "      <td>13.127000</td>\n",
       "      <td>481.030642</td>\n",
       "      <td>753.342620</td>\n",
       "      <td>28.300000</td>\n",
       "      <td>124.000000</td>\n",
       "      <td>6.739000</td>\n",
       "      <td>1.000000</td>\n",
       "    </tr>\n",
       "  </tbody>\n",
       "</table>\n",
       "</div>"
      ],
      "text/plain": [
       "                ph     Hardness        Solids  Chloramines      Sulfate  \\\n",
       "count  3247.000000  3247.000000   3247.000000  3247.000000  3247.000000   \n",
       "mean      7.083841   196.375108  21756.107273     7.127881   333.962084   \n",
       "std       1.458305    32.765258   8362.735123     1.580622    35.877115   \n",
       "min       0.227499    47.432000    320.942611     0.352000   180.206746   \n",
       "25%       6.280942   176.917854  15605.400708     6.132339   317.301524   \n",
       "50%       7.080795   197.028926  20849.190737     7.131704   333.775777   \n",
       "75%       7.862914   216.669594  27161.421110     8.116441   350.416395   \n",
       "max      14.000000   323.124000  46718.555965    13.127000   481.030642   \n",
       "\n",
       "       Conductivity  Organic_carbon  Trihalomethanes    Turbidity   Potability  \n",
       "count   3247.000000     3247.000000      3247.000000  3247.000000  3247.000000  \n",
       "mean     426.061070       14.289388        66.360464     3.966832     0.388051  \n",
       "std       80.783769        3.310366        15.779002     0.779898     0.487381  \n",
       "min      181.483754        2.200000         0.738000     1.450000     0.000000  \n",
       "25%      365.713321       12.065640        56.515797     3.439682     0.000000  \n",
       "50%      421.664482       14.217373        66.396293     3.954964     0.000000  \n",
       "75%      481.411301       16.563141        76.632992     4.500432     1.000000  \n",
       "max      753.342620       28.300000       124.000000     6.739000     1.000000  "
      ]
     },
     "execution_count": 35,
     "metadata": {},
     "output_type": "execute_result"
    }
   ],
   "source": [
    "df_water.describe()"
   ]
  },
  {
   "cell_type": "code",
   "execution_count": 36,
   "id": "721df5a6",
   "metadata": {
    "scrolled": true
   },
   "outputs": [
    {
     "data": {
      "text/plain": [
       "<Axes: >"
      ]
     },
     "execution_count": 36,
     "metadata": {},
     "output_type": "execute_result"
    },
    {
     "data": {
      "image/png": "[encoded data removed]",
      "text/plain": [
       "<Figure size 1500x500 with 1 Axes>"
      ]
     },
     "metadata": {},
     "output_type": "display_data"
    }
   ],
   "source": [
    "#again checking outliers\n",
    "plt.figure(figsize=(15,5))\n",
    "sns.boxplot(df_water)"
   ]
  },
  {
   "cell_type": "code",
   "execution_count": 37,
   "id": "f70f676b",
   "metadata": {},
   "outputs": [
    {
     "data": {
      "text/plain": [
       "(array([], dtype=int64),)"
      ]
     },
     "execution_count": 37,
     "metadata": {},
     "output_type": "execute_result"
    }
   ],
   "source": [
    "# Calculate Z-scores\n",
    "z_scores = stats.zscore(df_water['Solids'])\n",
    "\n",
    "# Identify outliers (using a threshold of 3)\n",
    "outlier_indices = np.where(np.abs(z_scores) > 3)\n",
    "outlier_indices"
   ]
  },
  {
   "cell_type": "code",
   "execution_count": 38,
   "id": "b5af400a",
   "metadata": {},
   "outputs": [
    {
     "name": "stdout",
     "output_type": "stream",
     "text": [
      "0.42885314377533446\n"
     ]
    }
   ],
   "source": [
    "print(df_water.Solids.skew())"
   ]
  },
  {
   "cell_type": "code",
   "execution_count": 39,
   "id": "4d37ff60",
   "metadata": {},
   "outputs": [
    {
     "data": {
      "text/html": [
       "<div>\n",
       "<style scoped>\n",
       "    .dataframe tbody tr th:only-of-type {\n",
       "        vertical-align: middle;\n",
       "    }\n",
       "\n",
       "    .dataframe tbody tr th {\n",
       "        vertical-align: top;\n",
       "    }\n",
       "\n",
       "    .dataframe thead th {\n",
       "        text-align: right;\n",
       "    }\n",
       "</style>\n",
       "<table border=\"1\" class=\"dataframe\">\n",
       "  <thead>\n",
       "    <tr style=\"text-align: right;\">\n",
       "      <th></th>\n",
       "      <th>ph</th>\n",
       "      <th>Hardness</th>\n",
       "      <th>Solids</th>\n",
       "      <th>Chloramines</th>\n",
       "      <th>Sulfate</th>\n",
       "      <th>Conductivity</th>\n",
       "      <th>Organic_carbon</th>\n",
       "      <th>Trihalomethanes</th>\n",
       "      <th>Turbidity</th>\n",
       "      <th>Potability</th>\n",
       "    </tr>\n",
       "  </thead>\n",
       "  <tbody>\n",
       "    <tr>\n",
       "      <th>ph</th>\n",
       "      <td>1.000000</td>\n",
       "      <td>0.081322</td>\n",
       "      <td>-0.080590</td>\n",
       "      <td>-0.029417</td>\n",
       "      <td>0.018665</td>\n",
       "      <td>0.020996</td>\n",
       "      <td>0.039469</td>\n",
       "      <td>0.003736</td>\n",
       "      <td>-0.034834</td>\n",
       "      <td>-0.009757</td>\n",
       "    </tr>\n",
       "    <tr>\n",
       "      <th>Hardness</th>\n",
       "      <td>0.081322</td>\n",
       "      <td>1.000000</td>\n",
       "      <td>-0.047991</td>\n",
       "      <td>-0.032683</td>\n",
       "      <td>-0.092503</td>\n",
       "      <td>-0.027621</td>\n",
       "      <td>0.004356</td>\n",
       "      <td>-0.016304</td>\n",
       "      <td>-0.016199</td>\n",
       "      <td>-0.017418</td>\n",
       "    </tr>\n",
       "    <tr>\n",
       "      <th>Solids</th>\n",
       "      <td>-0.080590</td>\n",
       "      <td>-0.047991</td>\n",
       "      <td>1.000000</td>\n",
       "      <td>-0.060145</td>\n",
       "      <td>-0.140427</td>\n",
       "      <td>0.008676</td>\n",
       "      <td>0.015163</td>\n",
       "      <td>-0.017490</td>\n",
       "      <td>0.020860</td>\n",
       "      <td>0.021394</td>\n",
       "    </tr>\n",
       "    <tr>\n",
       "      <th>Chloramines</th>\n",
       "      <td>-0.029417</td>\n",
       "      <td>-0.032683</td>\n",
       "      <td>-0.060145</td>\n",
       "      <td>1.000000</td>\n",
       "      <td>0.017452</td>\n",
       "      <td>-0.021237</td>\n",
       "      <td>-0.014634</td>\n",
       "      <td>0.016381</td>\n",
       "      <td>0.001944</td>\n",
       "      <td>0.026364</td>\n",
       "    </tr>\n",
       "    <tr>\n",
       "      <th>Sulfate</th>\n",
       "      <td>0.018665</td>\n",
       "      <td>-0.092503</td>\n",
       "      <td>-0.140427</td>\n",
       "      <td>0.017452</td>\n",
       "      <td>1.000000</td>\n",
       "      <td>-0.009649</td>\n",
       "      <td>0.022959</td>\n",
       "      <td>-0.023391</td>\n",
       "      <td>-0.005170</td>\n",
       "      <td>-0.014290</td>\n",
       "    </tr>\n",
       "    <tr>\n",
       "      <th>Conductivity</th>\n",
       "      <td>0.020996</td>\n",
       "      <td>-0.027621</td>\n",
       "      <td>0.008676</td>\n",
       "      <td>-0.021237</td>\n",
       "      <td>-0.009649</td>\n",
       "      <td>1.000000</td>\n",
       "      <td>0.022334</td>\n",
       "      <td>0.002133</td>\n",
       "      <td>0.003726</td>\n",
       "      <td>-0.011595</td>\n",
       "    </tr>\n",
       "    <tr>\n",
       "      <th>Organic_carbon</th>\n",
       "      <td>0.039469</td>\n",
       "      <td>0.004356</td>\n",
       "      <td>0.015163</td>\n",
       "      <td>-0.014634</td>\n",
       "      <td>0.022959</td>\n",
       "      <td>0.022334</td>\n",
       "      <td>1.000000</td>\n",
       "      <td>-0.013631</td>\n",
       "      <td>-0.024869</td>\n",
       "      <td>-0.030332</td>\n",
       "    </tr>\n",
       "    <tr>\n",
       "      <th>Trihalomethanes</th>\n",
       "      <td>0.003736</td>\n",
       "      <td>-0.016304</td>\n",
       "      <td>-0.017490</td>\n",
       "      <td>0.016381</td>\n",
       "      <td>-0.023391</td>\n",
       "      <td>0.002133</td>\n",
       "      <td>-0.013631</td>\n",
       "      <td>1.000000</td>\n",
       "      <td>-0.023331</td>\n",
       "      <td>0.005605</td>\n",
       "    </tr>\n",
       "    <tr>\n",
       "      <th>Turbidity</th>\n",
       "      <td>-0.034834</td>\n",
       "      <td>-0.016199</td>\n",
       "      <td>0.020860</td>\n",
       "      <td>0.001944</td>\n",
       "      <td>-0.005170</td>\n",
       "      <td>0.003726</td>\n",
       "      <td>-0.024869</td>\n",
       "      <td>-0.023331</td>\n",
       "      <td>1.000000</td>\n",
       "      <td>0.003103</td>\n",
       "    </tr>\n",
       "    <tr>\n",
       "      <th>Potability</th>\n",
       "      <td>-0.009757</td>\n",
       "      <td>-0.017418</td>\n",
       "      <td>0.021394</td>\n",
       "      <td>0.026364</td>\n",
       "      <td>-0.014290</td>\n",
       "      <td>-0.011595</td>\n",
       "      <td>-0.030332</td>\n",
       "      <td>0.005605</td>\n",
       "      <td>0.003103</td>\n",
       "      <td>1.000000</td>\n",
       "    </tr>\n",
       "  </tbody>\n",
       "</table>\n",
       "</div>"
      ],
      "text/plain": [
       "                       ph  Hardness    Solids  Chloramines   Sulfate  \\\n",
       "ph               1.000000  0.081322 -0.080590    -0.029417  0.018665   \n",
       "Hardness         0.081322  1.000000 -0.047991    -0.032683 -0.092503   \n",
       "Solids          -0.080590 -0.047991  1.000000    -0.060145 -0.140427   \n",
       "Chloramines     -0.029417 -0.032683 -0.060145     1.000000  0.017452   \n",
       "Sulfate          0.018665 -0.092503 -0.140427     0.017452  1.000000   \n",
       "Conductivity     0.020996 -0.027621  0.008676    -0.021237 -0.009649   \n",
       "Organic_carbon   0.039469  0.004356  0.015163    -0.014634  0.022959   \n",
       "Trihalomethanes  0.003736 -0.016304 -0.017490     0.016381 -0.023391   \n",
       "Turbidity       -0.034834 -0.016199  0.020860     0.001944 -0.005170   \n",
       "Potability      -0.009757 -0.017418  0.021394     0.026364 -0.014290   \n",
       "\n",
       "                 Conductivity  Organic_carbon  Trihalomethanes  Turbidity  \\\n",
       "ph                   0.020996        0.039469         0.003736  -0.034834   \n",
       "Hardness            -0.027621        0.004356        -0.016304  -0.016199   \n",
       "Solids               0.008676        0.015163        -0.017490   0.020860   \n",
       "Chloramines         -0.021237       -0.014634         0.016381   0.001944   \n",
       "Sulfate             -0.009649        0.022959        -0.023391  -0.005170   \n",
       "Conductivity         1.000000        0.022334         0.002133   0.003726   \n",
       "Organic_carbon       0.022334        1.000000        -0.013631  -0.024869   \n",
       "Trihalomethanes      0.002133       -0.013631         1.000000  -0.023331   \n",
       "Turbidity            0.003726       -0.024869        -0.023331   1.000000   \n",
       "Potability          -0.011595       -0.030332         0.005605   0.003103   \n",
       "\n",
       "                 Potability  \n",
       "ph                -0.009757  \n",
       "Hardness          -0.017418  \n",
       "Solids             0.021394  \n",
       "Chloramines        0.026364  \n",
       "Sulfate           -0.014290  \n",
       "Conductivity      -0.011595  \n",
       "Organic_carbon    -0.030332  \n",
       "Trihalomethanes    0.005605  \n",
       "Turbidity          0.003103  \n",
       "Potability         1.000000  "
      ]
     },
     "execution_count": 39,
     "metadata": {},
     "output_type": "execute_result"
    }
   ],
   "source": [
    "df_water.corr()"
   ]
  },
  {
   "cell_type": "code",
   "execution_count": 41,
   "id": "f8b263eb",
   "metadata": {},
   "outputs": [
    {
     "data": {
      "text/plain": [
       "<Axes: >"
      ]
     },
     "execution_count": 41,
     "metadata": {},
     "output_type": "execute_result"
    },
    {
     "data": {
      "image/png": "[encoded data removed]",
      "text/plain": [
       "<Figure size 600x600 with 2 Axes>"
      ]
     },
     "metadata": {},
     "output_type": "display_data"
    }
   ],
   "source": [
    "plt.figure(figsize=(6,6))\n",
    "sns.heatmap(df_water.corr(),cmap='Paired')"
   ]
  },
  {
   "cell_type": "code",
   "execution_count": 40,
   "id": "f312b6bc",
   "metadata": {},
   "outputs": [
    {
     "data": {
      "text/plain": [
       "<Axes: >"
      ]
     },
     "execution_count": 40,
     "metadata": {},
     "output_type": "execute_result"
    },
    {
     "data": {
      "image/png": "[encoded data removed]",
      "text/plain": [
       "<Figure size 2000x1000 with 1 Axes>"
      ]
     },
     "metadata": {},
     "output_type": "display_data"
    }
   ],
   "source": [
    "plt.figure(figsize=(20,10))\n",
    "df_water.corr()['Potability'].sort_values(ascending=False).plot(kind='bar')"
   ]
  },
  {
   "cell_type": "code",
   "execution_count": 41,
   "id": "98a783ae",
   "metadata": {},
   "outputs": [],
   "source": [
    "import warnings\n",
    "warnings.filterwarnings(\"ignore\")"
   ]
  },
  {
   "cell_type": "code",
   "execution_count": 42,
   "id": "f3a69237",
   "metadata": {},
   "outputs": [],
   "source": [
    "#bivariate analysis\n",
    "list=[\"ph\",\"Hardness\",\"Solids\",\"Chloramines\",\"Sulfate\",\"Conductivity\",\"Organic_Carbon\",\"Trihalomethanes\",\"Turbidity\"]"
   ]
  },
  {
   "cell_type": "code",
   "execution_count": 53,
   "id": "4cde876f",
   "metadata": {},
   "outputs": [
    {
     "name": "stdout",
     "output_type": "stream",
     "text": [
      "Correlation between Potability and ph: -0.009756848408120827\n",
      "\n",
      "Correlation between Potability and Hardness: -0.017418270094395723\n",
      "\n",
      "Correlation between Potability and Solids: 0.021394103785280963\n",
      "\n",
      "Correlation between Potability and Chloramines: 0.026364395846158614\n",
      "\n",
      "Correlation between Potability and Sulfate: -0.014290209297546146\n",
      "\n",
      "Correlation between Potability and Conductivity: -0.011595161731510636\n",
      "\n",
      "Correlation between Potability and Organic_carbon: -0.030332097144863242\n",
      "\n",
      "Correlation between Potability and Trihalomethanes: 0.0056047611066296675\n",
      "\n",
      "Correlation between Potability and Turbidity: 0.0031029421149995533\n",
      "\n"
     ]
    }
   ],
   "source": [
    "numerical_columns = [\"ph\", \"Hardness\", \"Solids\", \"Chloramines\", \"Sulfate\", \"Conductivity\", \"Organic_carbon\", \"Trihalomethanes\", \"Turbidity\"]\n",
    "for column in numerical_columns:\n",
    "    correlation = df_water['Potability'].corr(df_water[column])\n",
    "    print(f'Correlation between Potability and {column}: {correlation}\\n')"
   ]
  },
  {
   "cell_type": "code",
   "execution_count": 54,
   "id": "d599e32f",
   "metadata": {},
   "outputs": [],
   "source": [
    "#pH: The correlation coefficient between pH and Potability is approximately -0.0098, indicating a very weak negative correlation. This suggests that there is little to no relationship between the pH level of the water and its potability.\n",
    "#Hardness: The correlation coefficient between hardness and Potability is approximately -0.0174, indicating a weak negative correlation. This suggests that there might be a slight tendency for less hard water to be more potable, but the relationship is not very strong.\n",
    "#Solids: The correlation coefficient between solids and Potability is approximately 0.0214, indicating a weak positive correlation. This suggests that there might be a slight tendency for higher levels of total dissolved solids to be associated with potable water, but again, the relationship is not very strong.\n",
    "#Chloramines: The correlation coefficient between chloramines and Potability is approximately 0.0264, indicating a weak positive correlation. This suggests that there might be a slight tendency for higher levels of chloramines to be associated with potable water.\n",
    "#Sulfate: The correlation coefficient between sulfate and Potability is approximately -0.0143, indicating a weak negative correlation. This suggests that there might be a slight tendency for lower levels of sulfate to be associated with potable water.\n",
    "#Conductivity: The correlation coefficient between conductivity and Potability is approximately -0.0116, indicating a weak negative correlation. This suggests that there might be a slight tendency for lower conductivity to be associated with potable water.\n",
    "#Organic Carbon: The correlation coefficient between organic carbon and Potability is approximately -0.0303, indicating a weak negative correlation. This suggests that there might be a slight tendency for lower levels of organic carbon to be associated with potable water.\n",
    "#Trihalomethanes: The correlation coefficient between trihalomethanes and Potability is approximately 0.0056, indicating a very weak positive correlation. This suggests that there is little to no relationship between the level of trihalomethanes and water potability.\n",
    "#Turbidity: The correlation coefficient between turbidity and Potability is approximately 0.0031, indicating a very weak positive correlation. This suggests that there is little to no relationship between turbidity and water potability."
   ]
  },
  {
   "cell_type": "code",
   "execution_count": null,
   "id": "ea4d2e8a",
   "metadata": {},
   "outputs": [],
   "source": []
  },
  {
   "cell_type": "code",
   "execution_count": null,
   "id": "a2509e80",
   "metadata": {},
   "outputs": [],
   "source": []
  },
  {
   "cell_type": "code",
   "execution_count": null,
   "id": "0464bb7e",
   "metadata": {},
   "outputs": [],
   "source": []
  },
  {
   "cell_type": "code",
   "execution_count": null,
   "id": "91d971ea",
   "metadata": {},
   "outputs": [],
   "source": []
  },
  {
   "cell_type": "code",
   "execution_count": null,
   "id": "370efd84",
   "metadata": {},
   "outputs": [],
   "source": []
  },
  {
   "cell_type": "code",
   "execution_count": null,
   "id": "cba5e267",
   "metadata": {},
   "outputs": [],
   "source": []
  }
 ],
 "metadata": {
  "kernelspec": {
   "display_name": "Python 3 (ipykernel)",
   "language": "python",
   "name": "python3"
  },
  "language_info": {
   "codemirror_mode": {
    "name": "ipython",
    "version": 3
   },
   "file_extension": ".py",
   "mimetype": "text/x-python",
   "name": "python",
   "nbconvert_exporter": "python",
   "pygments_lexer": "ipython3",
   "version": "3.11.5"
  }
 },
 "nbformat": 4,
 "nbformat_minor": 5
}
